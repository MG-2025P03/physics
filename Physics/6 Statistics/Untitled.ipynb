{
 "cells": [
  {
   "cell_type": "code",
   "execution_count": 1,
   "id": "2b6fe8e3-6a94-4061-8367-d8ff8decf5e7",
   "metadata": {},
   "outputs": [
    {
     "data": {
      "application/vnd.jupyter.widget-view+json": {
       "model_id": "15d891b24e3d4fb0a3c8866e64414a73",
       "version_major": 2,
       "version_minor": 0
      },
      "text/plain": [
       "interactive(children=(IntSlider(value=5, continuous_update=False, description='Sample Size:', max=50, min=5, s…"
      ]
     },
     "metadata": {},
     "output_type": "display_data"
    }
   ],
   "source": [
    "import numpy as np\n",
    "import matplotlib.pyplot as plt\n",
    "import ipywidgets as widgets\n",
    "from IPython.display import display\n",
    "\n",
    "# Function to create sampling distributions and plot histograms\n",
    "def plot_sampling_distribution(sample_size):\n",
    "    # Sampling function\n",
    "    def sampling_distribution(population, sample_size, num_samples=1000):\n",
    "        sample_means = []\n",
    "        for _ in range(num_samples):\n",
    "            sample = np.random.choice(population, size=sample_size)\n",
    "            sample_means.append(np.mean(sample))\n",
    "        return sample_means\n",
    "\n",
    "    plt.figure(figsize=(18, 6))\n",
    "\n",
    "    distributions = {\n",
    "        'Uniform': uniform_population,\n",
    "        'Exponential': exponential_population,\n",
    "        'Binomial': binomial_population\n",
    "    }\n",
    "\n",
    "    for i, (name, population) in enumerate(distributions.items()):\n",
    "        # Calculate sample means\n",
    "        sample_means = sampling_distribution(population, sample_size)\n",
    "\n",
    "        # Plot histogram\n",
    "        plt.subplot(1, 3, i + 1)\n",
    "        plt.hist(sample_means, bins=30, density=True, alpha=0.7, color='b', edgecolor='black')\n",
    "        plt.title(f'{name} Distribution\\nSample Size = {sample_size}')\n",
    "        plt.xlabel('Sample Mean')\n",
    "        plt.ylabel('Frequency')\n",
    "\n",
    "        # Calculate and display variance\n",
    "        variance = np.var(sample_means)\n",
    "        plt.annotate(f'Variance: {variance:.4f}', xy=(0.7, 0.7), xycoords='axes fraction')\n",
    "\n",
    "    plt.tight_layout()\n",
    "    plt.show()\n",
    "\n",
    "# Generate populations\n",
    "population_size = 100000\n",
    "uniform_population = np.random.uniform(low=0.0, high=1.0, size=population_size)\n",
    "exponential_population = np.random.exponential(scale=1.0, size=population_size)\n",
    "binomial_population = np.random.binomial(n=10, p=0.5, size=population_size)\n",
    "\n",
    "# Create an interactive widget\n",
    "sample_size_slider = widgets.IntSlider(\n",
    "    value=5,\n",
    "    min=5,\n",
    "    max=50,\n",
    "    step=5,\n",
    "    description='Sample Size:',\n",
    "    continuous_update=False,\n",
    ")\n",
    "\n",
    "# Display interactive plot\n",
    "interactive_plot = widgets.interactive(plot_sampling_distribution, sample_size=sample_size_slider)\n",
    "display(interactive_plot)"
   ]
  },
  {
   "cell_type": "code",
   "execution_count": null,
   "id": "6665d3cc-35e9-42cb-81ff-3e7aea04d4af",
   "metadata": {},
   "outputs": [],
   "source": []
  }
 ],
 "metadata": {
  "kernelspec": {
   "display_name": "Python 3 (ipykernel)",
   "language": "python",
   "name": "python3"
  },
  "language_info": {
   "codemirror_mode": {
    "name": "ipython",
    "version": 3
   },
   "file_extension": ".py",
   "mimetype": "text/x-python",
   "name": "python",
   "nbconvert_exporter": "python",
   "pygments_lexer": "ipython3",
   "version": "3.13.2"
  }
 },
 "nbformat": 4,
 "nbformat_minor": 5
}
